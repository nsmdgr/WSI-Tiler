{
 "cells": [
  {
   "cell_type": "code",
   "execution_count": 2,
   "id": "51703d3d-d0b6-4df9-b292-0db68f7a8092",
   "metadata": {},
   "outputs": [],
   "source": [
    "from histolab.tiler import ScoreTiler"
   ]
  },
  {
   "cell_type": "code",
   "execution_count": 18,
   "id": "07eff516-b54c-4232-a468-c1412d2ae670",
   "metadata": {},
   "outputs": [],
   "source": [
    "from PIL import Image\n",
    "from histolab.tile import Tile"
   ]
  },
  {
   "cell_type": "code",
   "execution_count": 5,
   "id": "dc45e225-7aa4-45ac-bce1-ed454fd86f84",
   "metadata": {},
   "outputs": [],
   "source": [
    "import ray"
   ]
  },
  {
   "cell_type": "code",
   "execution_count": 12,
   "id": "31f5dd35-efa6-474d-a64b-29aaa9531e9d",
   "metadata": {},
   "outputs": [],
   "source": [
    "img = Image.open('/home/niklas/Pictures/escher_stars.png')\n",
    "img = img.convert(\"RGBA\").convert(\"RGB\")"
   ]
  },
  {
   "cell_type": "code",
   "execution_count": 14,
   "id": "1608c5f0-66b6-45a4-9a1e-a9d056ad9d57",
   "metadata": {},
   "outputs": [],
   "source": [
    "img.save('/home/niklas/Pictures/escher_stars.jpg', 'JPEG')"
   ]
  },
  {
   "cell_type": "code",
   "execution_count": 15,
   "id": "0d6c54d0-9983-46d9-b9b9-b6115da19068",
   "metadata": {},
   "outputs": [],
   "source": [
    "from histolab.tiler import ScoreTiler"
   ]
  },
  {
   "cell_type": "code",
   "execution_count": null,
   "id": "88796511-91d2-4921-8f72-caee912a6a94",
   "metadata": {},
   "outputs": [],
   "source": [
    "Sco"
   ]
  }
 ],
 "metadata": {
  "kernelspec": {
   "display_name": "Python 3",
   "language": "python",
   "name": "python3"
  },
  "language_info": {
   "codemirror_mode": {
    "name": "ipython",
    "version": 3
   },
   "file_extension": ".py",
   "mimetype": "text/x-python",
   "name": "python",
   "nbconvert_exporter": "python",
   "pygments_lexer": "ipython3",
   "version": "3.8.10"
  }
 },
 "nbformat": 4,
 "nbformat_minor": 5
}
